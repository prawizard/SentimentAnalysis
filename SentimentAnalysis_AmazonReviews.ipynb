{
  "nbformat": 4,
  "nbformat_minor": 0,
  "metadata": {
    "colab": {
      "name": "SentimentAnalysis_AmazonReviews.ipynb",
      "provenance": [],
      "collapsed_sections": [],
      "authorship_tag": "ABX9TyOjjrqpHCjgK1iF5pnCMtej",
      "include_colab_link": true
    },
    "kernelspec": {
      "name": "python3",
      "display_name": "Python 3"
    },
    "language_info": {
      "name": "python"
    },
    "accelerator": "GPU"
  },
  "cells": [
    {
      "cell_type": "markdown",
      "metadata": {
        "id": "view-in-github",
        "colab_type": "text"
      },
      "source": [
        "<a href=\"https://colab.research.google.com/github/prawizard/SentimentAnalysis/blob/main/SentimentAnalysis_AmazonReviews.ipynb\" target=\"_parent\"><img src=\"https://colab.research.google.com/assets/colab-badge.svg\" alt=\"Open In Colab\"/></a>"
      ]
    },
    {
      "cell_type": "code",
      "metadata": {
        "id": "vdLjCHA2OhFD"
      },
      "source": [
        "# Load all libraries as required\n",
        "import tensorflow as tf\n",
        "from tensorflow.keras.preprocessing.text import Tokenizer\n",
        "from tensorflow.keras.preprocessing.sequence import pad_sequences\n",
        "from tensorflow.keras.preprocessing.text import tokenizer_from_json\n",
        "import numpy as np\n",
        "import random\n",
        "import pandas as pd\n",
        "import os\n",
        "import io, json\n",
        "import matplotlib.pyplot as plt\n",
        "import seaborn as sns\n",
        "from PIL import Image\n",
        "import zipfile\n",
        "from tensorflow.keras import models, layers\n",
        "from tensorflow.keras.utils import to_categorical\n",
        "from sklearn.model_selection import train_test_split\n",
        "from sklearn.metrics import confusion_matrix, accuracy_score\n",
        "from google.colab import files"
      ],
      "execution_count": null,
      "outputs": []
    },
    {
      "cell_type": "code",
      "metadata": {
        "id": "VioQcA7Mm_ZH"
      },
      "source": [
        "# Install Kaggle API\n",
        "! pip install -q kaggle"
      ],
      "execution_count": null,
      "outputs": []
    },
    {
      "cell_type": "code",
      "metadata": {
        "id": "pkbA-GSVXxRI"
      },
      "source": [
        "# \n",
        "\n",
        "# Define constants used in the code\n",
        "oov_tok = \"<OOV>\"\n",
        "embedding_dim = 16\n",
        "padding_type='post'\n",
        "vocab_size = 10000\n",
        "trunc_type='post'\n",
        "max_length = 100"
      ],
      "execution_count": null,
      "outputs": []
    },
    {
      "cell_type": "code",
      "metadata": {
        "id": "zCgNYqI7A8iO"
      },
      "source": [
        "# \n",
        "\n",
        "files.upload()"
      ],
      "execution_count": null,
      "outputs": []
    },
    {
      "cell_type": "code",
      "metadata": {
        "id": "nFii8MBXBZ7G",
        "colab": {
          "base_uri": "https://localhost:8080/"
        },
        "outputId": "e7dda7cb-7a7b-4fa8-a60f-6e46be3ef53a"
      },
      "source": [
        "# \n",
        "\n",
        "\n",
        "! mkdir ~/.kaggle\n",
        "! cp kaggle.json ~/.kaggle/\n",
        "! chmod 600 ~/.kaggle/kaggle.json \n",
        "!kaggle datasets download -d kritanjalijain/amazon-reviews"
      ],
      "execution_count": null,
      "outputs": [
        {
          "output_type": "stream",
          "name": "stdout",
          "text": [
            "Downloading amazon-reviews.zip to /content\n",
            " 99% 1.29G/1.29G [00:22<00:00, 108MB/s] \n",
            "100% 1.29G/1.29G [00:22<00:00, 61.0MB/s]\n"
          ]
        }
      ]
    },
    {
      "cell_type": "code",
      "metadata": {
        "id": "vIeZNmCDCbP1"
      },
      "source": [
        "# \n",
        "\n",
        "\n",
        "# Extrract the contents from zip file\n",
        "data_path='/content/amazon-reviews'\n",
        "refer_zip   = zipfile.ZipFile('/content/amazon-reviews.zip', 'r')\n",
        "refer_zip.extractall(data_path)\n",
        "refer_zip.close()"
      ],
      "execution_count": null,
      "outputs": []
    },
    {
      "cell_type": "code",
      "metadata": {
        "id": "_FFzhuMZpQFD"
      },
      "source": [
        "# \n",
        "\n",
        "!rm amazon-reviews.zip\n",
        "!rm kaggle.json\n",
        "! cp amazon-reviews/train.csv /content/\n",
        "! cp amazon-reviews/test.csv /content/\n",
        "%rm -rf amazon-reviews"
      ],
      "execution_count": null,
      "outputs": []
    },
    {
      "cell_type": "code",
      "metadata": {
        "id": "SsHVAXyJpRcK"
      },
      "source": [
        "# \n",
        "\n",
        "\n",
        "# read the csv file\n",
        "dataset=pd.read_csv('train.csv', header=None)"
      ],
      "execution_count": null,
      "outputs": []
    },
    {
      "cell_type": "code",
      "metadata": {
        "colab": {
          "base_uri": "https://localhost:8080/",
          "height": 203
        },
        "id": "Eg37LOy7pRkz",
        "outputId": "e6999c43-2dda-4113-ca70-2e9b12362ac8"
      },
      "source": [
        "# \n",
        "\n",
        "# 2: positive review\n",
        "# 1: negative review\n",
        "dataset.tail()"
      ],
      "execution_count": null,
      "outputs": [
        {
          "output_type": "execute_result",
          "data": {
            "text/html": [
              "<div>\n",
              "<style scoped>\n",
              "    .dataframe tbody tr th:only-of-type {\n",
              "        vertical-align: middle;\n",
              "    }\n",
              "\n",
              "    .dataframe tbody tr th {\n",
              "        vertical-align: top;\n",
              "    }\n",
              "\n",
              "    .dataframe thead th {\n",
              "        text-align: right;\n",
              "    }\n",
              "</style>\n",
              "<table border=\"1\" class=\"dataframe\">\n",
              "  <thead>\n",
              "    <tr style=\"text-align: right;\">\n",
              "      <th></th>\n",
              "      <th>0</th>\n",
              "      <th>1</th>\n",
              "      <th>2</th>\n",
              "    </tr>\n",
              "  </thead>\n",
              "  <tbody>\n",
              "    <tr>\n",
              "      <th>3599995</th>\n",
              "      <td>1</td>\n",
              "      <td>Don't do it!!</td>\n",
              "      <td>The high chair looks great when it first comes...</td>\n",
              "    </tr>\n",
              "    <tr>\n",
              "      <th>3599996</th>\n",
              "      <td>1</td>\n",
              "      <td>Looks nice, low functionality</td>\n",
              "      <td>I have used this highchair for 2 kids now and ...</td>\n",
              "    </tr>\n",
              "    <tr>\n",
              "      <th>3599997</th>\n",
              "      <td>1</td>\n",
              "      <td>compact, but hard to clean</td>\n",
              "      <td>We have a small house, and really wanted two o...</td>\n",
              "    </tr>\n",
              "    <tr>\n",
              "      <th>3599998</th>\n",
              "      <td>1</td>\n",
              "      <td>what is it saying?</td>\n",
              "      <td>not sure what this book is supposed to be. It ...</td>\n",
              "    </tr>\n",
              "    <tr>\n",
              "      <th>3599999</th>\n",
              "      <td>2</td>\n",
              "      <td>Makes My Blood Run Red-White-And-Blue</td>\n",
              "      <td>I agree that every American should read this b...</td>\n",
              "    </tr>\n",
              "  </tbody>\n",
              "</table>\n",
              "</div>"
            ],
            "text/plain": [
              "         0  ...                                                  2\n",
              "3599995  1  ...  The high chair looks great when it first comes...\n",
              "3599996  1  ...  I have used this highchair for 2 kids now and ...\n",
              "3599997  1  ...  We have a small house, and really wanted two o...\n",
              "3599998  1  ...  not sure what this book is supposed to be. It ...\n",
              "3599999  2  ...  I agree that every American should read this b...\n",
              "\n",
              "[5 rows x 3 columns]"
            ]
          },
          "metadata": {},
          "execution_count": 9
        }
      ]
    },
    {
      "cell_type": "code",
      "metadata": {
        "id": "PHEyfH2epRuN"
      },
      "source": [
        "# \n",
        "\n",
        "x=dataset[2]\n",
        "y=dataset[0]"
      ],
      "execution_count": null,
      "outputs": []
    },
    {
      "cell_type": "code",
      "metadata": {
        "colab": {
          "base_uri": "https://localhost:8080/"
        },
        "id": "1nL2xlgdpR1J",
        "outputId": "42e89c3e-5f5a-40fc-f650-d3f35100b0a3"
      },
      "source": [
        "# \n",
        "\n",
        "x.head()"
      ],
      "execution_count": null,
      "outputs": [
        {
          "output_type": "execute_result",
          "data": {
            "text/plain": [
              "0    This sound track was beautiful! It paints the ...\n",
              "1    I'm reading a lot of reviews saying that this ...\n",
              "2    This soundtrack is my favorite music of all ti...\n",
              "3    I truly like this soundtrack and I enjoy video...\n",
              "4    If you've played the game, you know how divine...\n",
              "Name: 2, dtype: object"
            ]
          },
          "metadata": {},
          "execution_count": 11
        }
      ]
    },
    {
      "cell_type": "code",
      "metadata": {
        "colab": {
          "base_uri": "https://localhost:8080/"
        },
        "id": "a_q-Td_vyAoF",
        "outputId": "c96e92bf-7b7b-455a-cbc1-d1e6bcfcc09b"
      },
      "source": [
        "# \n",
        "\n",
        "len(y)"
      ],
      "execution_count": null,
      "outputs": [
        {
          "output_type": "execute_result",
          "data": {
            "text/plain": [
              "3600000"
            ]
          },
          "metadata": {},
          "execution_count": 12
        }
      ]
    },
    {
      "cell_type": "code",
      "metadata": {
        "id": "G4AGzOHux1oE"
      },
      "source": [
        "# \n",
        "\n",
        "dataset_size=int(3600000/1)\n",
        "# 75% of the data for training and 25% for testing\n",
        "train_proportion=0.75"
      ],
      "execution_count": null,
      "outputs": []
    },
    {
      "cell_type": "code",
      "metadata": {
        "id": "_5nsoXHEpR9S"
      },
      "source": [
        "# \n",
        "\n",
        "x_data=list(x)\n",
        "y_data=list(y)\n",
        "\n",
        "# x=x[0:dataset_size]  # 0 to 1200000\n",
        "# y=y[0:dataset_size]\n",
        "\n",
        "x_training=x_data[0:int(train_proportion*dataset_size)] # 75% for training\n",
        "x_test=x_data[int(train_proportion*dataset_size):dataset_size] # 25% for testing\n",
        "\n",
        "y_training=y_data[0:int(train_proportion*dataset_size)]\n",
        "y_test=y_data[int(train_proportion*dataset_size):dataset_size]"
      ],
      "execution_count": null,
      "outputs": []
    },
    {
      "cell_type": "code",
      "metadata": {
        "colab": {
          "base_uri": "https://localhost:8080/"
        },
        "id": "ZVyR6daBy9b6",
        "outputId": "42605b01-21d1-4a3e-ff7e-e1d26adc9a1b"
      },
      "source": [
        "# \n",
        "\n",
        "len(x_training+x_test)"
      ],
      "execution_count": null,
      "outputs": [
        {
          "output_type": "execute_result",
          "data": {
            "text/plain": [
              "3600000"
            ]
          },
          "metadata": {},
          "execution_count": 15
        }
      ]
    },
    {
      "cell_type": "code",
      "metadata": {
        "colab": {
          "base_uri": "https://localhost:8080/"
        },
        "id": "s0T1bQt-ikbF",
        "outputId": "c847378c-ae9d-45a8-8043-51d231f7fa3f"
      },
      "source": [
        "# \n",
        "\n",
        "len(x_training)/len(x_training+x_test)"
      ],
      "execution_count": null,
      "outputs": [
        {
          "output_type": "execute_result",
          "data": {
            "text/plain": [
              "0.75"
            ]
          },
          "metadata": {},
          "execution_count": 16
        }
      ]
    },
    {
      "cell_type": "code",
      "metadata": {
        "colab": {
          "base_uri": "https://localhost:8080/"
        },
        "id": "PpkSUua9i8TB",
        "outputId": "d86218f8-8478-4851-905d-265031490661"
      },
      "source": [
        "# \n",
        "\n",
        "x_training[0:5]"
      ],
      "execution_count": null,
      "outputs": [
        {
          "output_type": "execute_result",
          "data": {
            "text/plain": [
              "['This sound track was beautiful! It paints the senery in your mind so well I would recomend it even to people who hate vid. game music! I have played the game Chrono Cross but out of all of the games I have ever played it has the best music! It backs away from crude keyboarding and takes a fresher step with grate guitars and soulful orchestras. It would impress anyone who cares to listen! ^_^',\n",
              " \"I'm reading a lot of reviews saying that this is the best 'game soundtrack' and I figured that I'd write a review to disagree a bit. This in my opinino is Yasunori Mitsuda's ultimate masterpiece. The music is timeless and I'm been listening to it for years now and its beauty simply refuses to fade.The price tag on this is pretty staggering I must say, but if you are going to buy any cd for this much money, this is the only one that I feel would be worth every penny.\",\n",
              " 'This soundtrack is my favorite music of all time, hands down. The intense sadness of \"Prisoners of Fate\" (which means all the more if you\\'ve played the game) and the hope in \"A Distant Promise\" and \"Girl who Stole the Star\" have been an important inspiration to me personally throughout my teen years. The higher energy tracks like \"Chrono Cross ~ Time\\'s Scar~\", \"Time of the Dreamwatch\", and \"Chronomantique\" (indefinably remeniscent of Chrono Trigger) are all absolutely superb as well.This soundtrack is amazing music, probably the best of this composer\\'s work (I haven\\'t heard the Xenogears soundtrack, so I can\\'t say for sure), and even if you\\'ve never played the game, it would be worth twice the price to buy it.I wish I could give it 6 stars.',\n",
              " \"I truly like this soundtrack and I enjoy video game music. I have played this game and most of the music on here I enjoy and it's truly relaxing and peaceful.On disk one. my favorites are Scars Of Time, Between Life and Death, Forest Of Illusion, Fortress of Ancient Dragons, Lost Fragment, and Drowned Valley.Disk Two: The Draggons, Galdorb - Home, Chronomantique, Prisoners of Fate, Gale, and my girlfriend likes ZelbessDisk Three: The best of the three. Garden Of God, Chronopolis, Fates, Jellyfish sea, Burning Orphange, Dragon's Prayer, Tower Of Stars, Dragon God, and Radical Dreamers - Unstealable Jewel.Overall, this is a excellent soundtrack and should be brought by those that like video game music.Xander Cross\",\n",
              " \"If you've played the game, you know how divine the music is! Every single song tells a story of the game, it's that good! The greatest songs are without a doubt, Chrono Cross: Time's Scar, Magical Dreamers: The Wind, The Stars, and the Sea and Radical Dreamers: Unstolen Jewel. (Translation varies) This music is perfect if you ask me, the best it can be. Yasunori Mitsuda just poured his heart on and wrote it down on paper.\"]"
            ]
          },
          "metadata": {},
          "execution_count": 17
        }
      ]
    },
    {
      "cell_type": "code",
      "metadata": {
        "id": "_4q81HkF93WL"
      },
      "source": [
        "# To fit a new tokenizer\n",
        "\n",
        "tokenizer = Tokenizer(num_words=vocab_size, oov_token=oov_tok) \n",
        "tokenizer.fit_on_texts(x_training) # Tokenize the sentences in x_training."
      ],
      "execution_count": null,
      "outputs": []
    },
    {
      "cell_type": "code",
      "metadata": {
        "id": "Nb5yn8DbbN-f"
      },
      "source": [
        "import io\n",
        "import json\n",
        "tokenizer_json = tokenizer.to_json()\n",
        "with io.open('tokenizer.json', 'w', encoding='utf-8') as f:\n",
        "    f.write(json.dumps(tokenizer_json, ensure_ascii=False))"
      ],
      "execution_count": null,
      "outputs": []
    },
    {
      "cell_type": "code",
      "metadata": {
        "id": "my1zKjHz4F08"
      },
      "source": [
        "# # \n",
        "\n",
        "# # To load the saved tokenizer\n",
        "\n",
        "\n",
        "# with open('tokenizer.json') as f:\n",
        "#     data = json.load(f)\n",
        "#     loaded_tokenizer = tokenizer_from_json(data)\n",
        "# tokenizer=loaded_tokenizer"
      ],
      "execution_count": null,
      "outputs": []
    },
    {
      "cell_type": "code",
      "metadata": {
        "id": "5HSw5khYAmK9"
      },
      "source": [
        ""
      ],
      "execution_count": null,
      "outputs": []
    },
    {
      "cell_type": "code",
      "metadata": {
        "id": "zbQxkOr1z7PW"
      },
      "source": [
        "# \n",
        "\n",
        "word_index = tokenizer.word_index # dictionary with words mapped to word ids\n",
        "\n",
        "training_sequences = tokenizer.texts_to_sequences(x_training) # represent words using word ids in each sentence \n",
        "training_padded = pad_sequences(training_sequences, maxlen=max_length, padding=padding_type, truncating=trunc_type) # make all sequences have same length by padding\n",
        "\n",
        "testing_sequences = tokenizer.texts_to_sequences(x_test)\n",
        "testing_padded = pad_sequences(testing_sequences, maxlen=max_length, padding=padding_type, truncating=trunc_type)"
      ],
      "execution_count": null,
      "outputs": []
    },
    {
      "cell_type": "code",
      "metadata": {
        "colab": {
          "base_uri": "https://localhost:8080/"
        },
        "id": "Z48-Nnh7oioj",
        "outputId": "1f29aa64-b400-4feb-f85e-b0e75b6ddd4a"
      },
      "source": [
        "# \n",
        "\n",
        "([int(i>1) for i in y_training[0:10]])"
      ],
      "execution_count": null,
      "outputs": [
        {
          "output_type": "execute_result",
          "data": {
            "text/plain": [
              "[1, 1, 1, 1, 1, 1, 0, 1, 1, 1]"
            ]
          },
          "metadata": {},
          "execution_count": 20
        }
      ]
    },
    {
      "cell_type": "code",
      "metadata": {
        "id": "vZ-AxC1z1o06"
      },
      "source": [
        "# \n",
        "\n",
        "import numpy as np\n",
        "training_padded = np.array(training_padded)\n",
        "training_labels = np.array([i>1 for i in y_training])*1\n",
        "testing_padded = np.array(testing_padded)\n",
        "testing_labels = np.array([ i>1 for i in y_test])*1\n",
        "\n",
        "# convert to numpy array as the model expects input in numpy format"
      ],
      "execution_count": null,
      "outputs": []
    },
    {
      "cell_type": "code",
      "metadata": {
        "id": "Jts8WE7z2Ocm"
      },
      "source": [
        "# define model with layers. Using dropout layer to prevent overfitting. Using embedding layer to improve the performance\n",
        "\n",
        "model = tf.keras.Sequential([\n",
        "    tf.keras.layers.Embedding(vocab_size, embedding_dim, input_length=max_length),\n",
        "    tf.keras.layers.LSTM(50),\n",
        "    # tf.keras.layers.GlobalAveragePooling1D(),\n",
        "    tf.keras.layers.Dense(128, activation='relu'),\n",
        "    tf.keras.layers.Dropout(0.2),\n",
        "    tf.keras.layers.Dense(64, activation='relu'),\n",
        "    tf.keras.layers.Dropout(0.2),\n",
        "    tf.keras.layers.Dense(32, activation='relu'),\n",
        "    tf.keras.layers.Dense(1, activation='sigmoid')\n",
        "])\n",
        "\n",
        "# compile the model\n",
        "model.compile(loss='binary_crossentropy',optimizer='adam',metrics=['accuracy'])"
      ],
      "execution_count": null,
      "outputs": []
    },
    {
      "cell_type": "code",
      "metadata": {
        "colab": {
          "base_uri": "https://localhost:8080/"
        },
        "id": "8wO6VeXwBVLF",
        "outputId": "327f4f3f-51d5-4b79-8ec1-0a3ad57b91d3"
      },
      "source": [
        "model.summary()"
      ],
      "execution_count": null,
      "outputs": [
        {
          "output_type": "stream",
          "name": "stdout",
          "text": [
            "Model: \"sequential_1\"\n",
            "_________________________________________________________________\n",
            " Layer (type)                Output Shape              Param #   \n",
            "=================================================================\n",
            " embedding_1 (Embedding)     (None, 100, 16)           160000    \n",
            "                                                                 \n",
            " lstm_1 (LSTM)               (None, 50)                13400     \n",
            "                                                                 \n",
            " dense_4 (Dense)             (None, 128)               6528      \n",
            "                                                                 \n",
            " dropout_2 (Dropout)         (None, 128)               0         \n",
            "                                                                 \n",
            " dense_5 (Dense)             (None, 64)                8256      \n",
            "                                                                 \n",
            " dropout_3 (Dropout)         (None, 64)                0         \n",
            "                                                                 \n",
            " dense_6 (Dense)             (None, 32)                2080      \n",
            "                                                                 \n",
            " dense_7 (Dense)             (None, 1)                 33        \n",
            "                                                                 \n",
            "=================================================================\n",
            "Total params: 190,297\n",
            "Trainable params: 190,297\n",
            "Non-trainable params: 0\n",
            "_________________________________________________________________\n"
          ]
        }
      ]
    },
    {
      "cell_type": "code",
      "metadata": {
        "colab": {
          "base_uri": "https://localhost:8080/"
        },
        "id": "SjeG02cUBbl2",
        "outputId": "823e3a90-16bc-44e3-a24e-6594bb02e6e6"
      },
      "source": [
        "num_epochs = 10\n",
        "# Train the model\n",
        "history = model.fit(training_padded, training_labels, epochs=num_epochs, validation_data=(testing_padded, testing_labels), batch_size=256, verbose=2)"
      ],
      "execution_count": null,
      "outputs": [
        {
          "output_type": "stream",
          "name": "stdout",
          "text": [
            "Epoch 1/10\n",
            "10547/10547 - 231s - loss: 0.2568 - accuracy: 0.8935 - val_loss: 0.2205 - val_accuracy: 0.9153 - 231s/epoch - 22ms/step\n",
            "Epoch 2/10\n",
            "10547/10547 - 222s - loss: 0.2051 - accuracy: 0.9195 - val_loss: 0.2090 - val_accuracy: 0.9198 - 222s/epoch - 21ms/step\n",
            "Epoch 3/10\n",
            "10547/10547 - 222s - loss: 0.1892 - accuracy: 0.9262 - val_loss: 0.1935 - val_accuracy: 0.9263 - 222s/epoch - 21ms/step\n",
            "Epoch 4/10\n",
            "10547/10547 - 220s - loss: 0.1786 - accuracy: 0.9310 - val_loss: 0.1960 - val_accuracy: 0.9278 - 220s/epoch - 21ms/step\n",
            "Epoch 5/10\n",
            "10547/10547 - 221s - loss: 0.1707 - accuracy: 0.9343 - val_loss: 0.1860 - val_accuracy: 0.9286 - 221s/epoch - 21ms/step\n",
            "Epoch 6/10\n",
            "10547/10547 - 223s - loss: 0.1647 - accuracy: 0.9370 - val_loss: 0.1818 - val_accuracy: 0.9295 - 223s/epoch - 21ms/step\n",
            "Epoch 7/10\n",
            "10547/10547 - 222s - loss: 0.1597 - accuracy: 0.9393 - val_loss: 0.1815 - val_accuracy: 0.9304 - 222s/epoch - 21ms/step\n",
            "Epoch 8/10\n",
            "10547/10547 - 222s - loss: 0.1559 - accuracy: 0.9408 - val_loss: 0.1825 - val_accuracy: 0.9277 - 222s/epoch - 21ms/step\n",
            "Epoch 9/10\n",
            "10547/10547 - 222s - loss: 0.1524 - accuracy: 0.9424 - val_loss: 0.1827 - val_accuracy: 0.9301 - 222s/epoch - 21ms/step\n",
            "Epoch 10/10\n",
            "10547/10547 - 223s - loss: 0.1497 - accuracy: 0.9438 - val_loss: 0.1827 - val_accuracy: 0.9297 - 223s/epoch - 21ms/step\n"
          ]
        }
      ]
    },
    {
      "cell_type": "code",
      "metadata": {
        "colab": {
          "base_uri": "https://localhost:8080/",
          "height": 541
        },
        "id": "uuG8gZCoBfXu",
        "outputId": "c12e83ac-da0f-49ce-8ea8-2cd1a184db7a"
      },
      "source": [
        "import matplotlib.pyplot as plt\n",
        "\n",
        "\n",
        "def plot_graphs(history, string):\n",
        "  plt.plot(history.history[string])\n",
        "  plt.plot(history.history['val_'+string])\n",
        "  plt.xlabel(\"Epochs\")\n",
        "  plt.ylabel(string)\n",
        "  plt.legend([string, 'val_'+string])\n",
        "  plt.show()\n",
        "  \n",
        "plot_graphs(history, \"accuracy\")\n",
        "plot_graphs(history, \"loss\")"
      ],
      "execution_count": null,
      "outputs": [
        {
          "output_type": "display_data",
          "data": {
            "image/png": "[encoded data removed]",
            "text/plain": [
              "<Figure size 432x288 with 1 Axes>"
            ]
          },
          "metadata": {
            "needs_background": "light"
          }
        },
        {
          "output_type": "display_data",
          "data": {
            "image/png": "[encoded data removed]",
            "text/plain": [
              "<Figure size 432x288 with 1 Axes>"
            ]
          },
          "metadata": {
            "needs_background": "light"
          }
        }
      ]
    },
    {
      "cell_type": "code",
      "metadata": {
        "colab": {
          "base_uri": "https://localhost:8080/"
        },
        "id": "WaVuZGjXTKPV",
        "outputId": "778d7beb-a12e-484c-da1a-bbb00a930d09"
      },
      "source": [
        "# evaluate on test set\n",
        "\n",
        "model.evaluate(testing_padded, testing_labels)"
      ],
      "execution_count": null,
      "outputs": [
        {
          "output_type": "stream",
          "name": "stdout",
          "text": [
            "28125/28125 [==============================] - 264s 9ms/step - loss: 0.1827 - accuracy: 0.9297\n"
          ]
        },
        {
          "output_type": "execute_result",
          "data": {
            "text/plain": [
              "[0.1827353835105896, 0.9296833276748657]"
            ]
          },
          "metadata": {},
          "execution_count": 28
        }
      ]
    },
    {
      "cell_type": "code",
      "metadata": {
        "colab": {
          "base_uri": "https://localhost:8080/"
        },
        "id": "vqIJ4t2Uy0BU",
        "outputId": "8b2b5c11-d3ff-4720-a584-3f264ea23ca7"
      },
      "source": [
        "len(x_training)"
      ],
      "execution_count": null,
      "outputs": [
        {
          "output_type": "execute_result",
          "data": {
            "text/plain": [
              "2700000"
            ]
          },
          "metadata": {},
          "execution_count": 29
        }
      ]
    },
    {
      "cell_type": "code",
      "metadata": {
        "id": "ghtpBw84VSFL"
      },
      "source": [
        "y_pred=(model.predict(testing_padded) >= 0.5)*1"
      ],
      "execution_count": null,
      "outputs": []
    },
    {
      "cell_type": "code",
      "metadata": {
        "colab": {
          "base_uri": "https://localhost:8080/"
        },
        "id": "fhOmO7GzUPzu",
        "outputId": "d04d6968-ffa9-456a-e93d-3d85e3620ba9"
      },
      "source": [
        "from sklearn.metrics import accuracy_score, f1_score\n",
        "# f1-score for the classification performance\n",
        "f1_score(testing_labels, y_pred)"
      ],
      "execution_count": null,
      "outputs": [
        {
          "output_type": "execute_result",
          "data": {
            "text/plain": [
              "0.8913619396163448"
            ]
          },
          "metadata": {},
          "execution_count": 29
        }
      ]
    },
    {
      "cell_type": "code",
      "metadata": {
        "colab": {
          "base_uri": "https://localhost:8080/"
        },
        "id": "dTzZbrrgUlc-",
        "outputId": "fb14e086-ce5c-4b1e-db51-7ca67c3eeb24"
      },
      "source": [
        "# accuracy-score for the classification performance\n",
        "\n",
        "accuracy_score(testing_labels, y_pred)"
      ],
      "execution_count": null,
      "outputs": [
        {
          "output_type": "execute_result",
          "data": {
            "text/plain": [
              "0.8910566666666667"
            ]
          },
          "metadata": {},
          "execution_count": 30
        }
      ]
    },
    {
      "cell_type": "code",
      "metadata": {
        "colab": {
          "base_uri": "https://localhost:8080/",
          "height": 86
        },
        "id": "BfWdV8brWSnk",
        "outputId": "f39090c1-08f5-49ca-f053-5e333b347c66"
      },
      "source": [
        "dataset[2][3599990]"
      ],
      "execution_count": null,
      "outputs": [
        {
          "output_type": "execute_result",
          "data": {
            "application/vnd.google.colaboratory.intrinsic+json": {
              "type": "string"
            },
            "text/plain": [
              "'Tyler Hilton....a name you might not know now, but for SURE will within the upcoming months! With his upcoming CD \"The Tracks Of...,\" Tyler\\'s storming the music scene. He showcases some of these songs on his self-titled EP. From the bouncy, singalong \"When it comes,\" reminiscent of summer evening drives and nights at the local diner with friends, he takes us into a universal breakup story in \"Pink and Black.\" \"Letter Song\\' and \"Slide\" are both singable tunes, but simultaneously give way to showcase Tyler\\'s extremely proficient guitar skills. This is a must-own!'"
            ]
          },
          "metadata": {},
          "execution_count": 31
        }
      ]
    },
    {
      "cell_type": "code",
      "metadata": {
        "colab": {
          "base_uri": "https://localhost:8080/"
        },
        "id": "P5DNt8pFQ6mz",
        "outputId": "ffc7fd21-2753-42a0-c137-c1ba192d1e57"
      },
      "source": [
        "# test on any random single review\n",
        "\n",
        "sentence = [dataset[2][3599990]]\n",
        "print(sentence)\n",
        "print('-------------------------------------------')\n",
        "print('-------------------------------------------')\n",
        "sequences = tokenizer.texts_to_sequences(sentence)\n",
        "padded = pad_sequences(sequences, maxlen=max_length, padding=padding_type, truncating=trunc_type)\n",
        "\n",
        "result=model.predict(padded)\n",
        "print(result)"
      ],
      "execution_count": null,
      "outputs": [
        {
          "output_type": "stream",
          "name": "stdout",
          "text": [
            "['Tyler Hilton....a name you might not know now, but for SURE will within the upcoming months! With his upcoming CD \"The Tracks Of...,\" Tyler\\'s storming the music scene. He showcases some of these songs on his self-titled EP. From the bouncy, singalong \"When it comes,\" reminiscent of summer evening drives and nights at the local diner with friends, he takes us into a universal breakup story in \"Pink and Black.\" \"Letter Song\\' and \"Slide\" are both singable tunes, but simultaneously give way to showcase Tyler\\'s extremely proficient guitar skills. This is a must-own!']\n",
            "-------------------------------------------\n",
            "-------------------------------------------\n",
            "[[0.95333487]]\n"
          ]
        }
      ]
    },
    {
      "cell_type": "code",
      "metadata": {
        "colab": {
          "base_uri": "https://localhost:8080/"
        },
        "id": "uxjhuAlzXUBH",
        "outputId": "77a52515-0b12-45a0-a2ba-f9d94daf06f8"
      },
      "source": [
        "result"
      ],
      "execution_count": null,
      "outputs": [
        {
          "output_type": "execute_result",
          "data": {
            "text/plain": [
              "array([[0.95333487]], dtype=float32)"
            ]
          },
          "metadata": {},
          "execution_count": 33
        }
      ]
    },
    {
      "cell_type": "code",
      "metadata": {
        "id": "23LBzrbPXTdu"
      },
      "source": [
        ""
      ],
      "execution_count": null,
      "outputs": []
    },
    {
      "cell_type": "code",
      "metadata": {
        "colab": {
          "base_uri": "https://localhost:8080/"
        },
        "id": "g6X_H3OKRHyz",
        "outputId": "e6ddd0b5-30fd-410f-8146-a8194f607b23"
      },
      "source": [
        "dataset.index[dataset[0]==2]"
      ],
      "execution_count": null,
      "outputs": [
        {
          "output_type": "execute_result",
          "data": {
            "text/plain": [
              "Int64Index([      0,       1,       2,       3,       4,       5,       7,\n",
              "                  8,       9,      11,\n",
              "            ...\n",
              "            3599982, 3599984, 3599985, 3599986, 3599988, 3599989, 3599990,\n",
              "            3599991, 3599992, 3599999],\n",
              "           dtype='int64', length=1800000)"
            ]
          },
          "metadata": {},
          "execution_count": 34
        }
      ]
    },
    {
      "cell_type": "code",
      "metadata": {
        "id": "1atTNGqbaC9u"
      },
      "source": [
        ""
      ],
      "execution_count": null,
      "outputs": []
    },
    {
      "cell_type": "code",
      "metadata": {
        "id": "yo5c2kLLaDXT"
      },
      "source": [
        "# \n",
        "\n",
        "# read the dataset unused during training\n",
        "\n",
        "unused_data=pd.read_csv('test.csv', header=None)"
      ],
      "execution_count": null,
      "outputs": []
    },
    {
      "cell_type": "code",
      "metadata": {
        "colab": {
          "base_uri": "https://localhost:8080/",
          "height": 203
        },
        "id": "jwHYnhr3aEE6",
        "outputId": "22c1c649-5a3e-4886-e4c5-af4fb41b2631"
      },
      "source": [
        "# \n",
        "\n",
        "unused_data.head()"
      ],
      "execution_count": null,
      "outputs": [
        {
          "output_type": "execute_result",
          "data": {
            "text/html": [
              "<div>\n",
              "<style scoped>\n",
              "    .dataframe tbody tr th:only-of-type {\n",
              "        vertical-align: middle;\n",
              "    }\n",
              "\n",
              "    .dataframe tbody tr th {\n",
              "        vertical-align: top;\n",
              "    }\n",
              "\n",
              "    .dataframe thead th {\n",
              "        text-align: right;\n",
              "    }\n",
              "</style>\n",
              "<table border=\"1\" class=\"dataframe\">\n",
              "  <thead>\n",
              "    <tr style=\"text-align: right;\">\n",
              "      <th></th>\n",
              "      <th>0</th>\n",
              "      <th>1</th>\n",
              "      <th>2</th>\n",
              "    </tr>\n",
              "  </thead>\n",
              "  <tbody>\n",
              "    <tr>\n",
              "      <th>0</th>\n",
              "      <td>2</td>\n",
              "      <td>Great CD</td>\n",
              "      <td>My lovely Pat has one of the GREAT voices of h...</td>\n",
              "    </tr>\n",
              "    <tr>\n",
              "      <th>1</th>\n",
              "      <td>2</td>\n",
              "      <td>One of the best game music soundtracks - for a...</td>\n",
              "      <td>Despite the fact that I have only played a sma...</td>\n",
              "    </tr>\n",
              "    <tr>\n",
              "      <th>2</th>\n",
              "      <td>1</td>\n",
              "      <td>Batteries died within a year ...</td>\n",
              "      <td>I bought this charger in Jul 2003 and it worke...</td>\n",
              "    </tr>\n",
              "    <tr>\n",
              "      <th>3</th>\n",
              "      <td>2</td>\n",
              "      <td>works fine, but Maha Energy is better</td>\n",
              "      <td>Check out Maha Energy's website. Their Powerex...</td>\n",
              "    </tr>\n",
              "    <tr>\n",
              "      <th>4</th>\n",
              "      <td>2</td>\n",
              "      <td>Great for the non-audiophile</td>\n",
              "      <td>Reviewed quite a bit of the combo players and ...</td>\n",
              "    </tr>\n",
              "  </tbody>\n",
              "</table>\n",
              "</div>"
            ],
            "text/plain": [
              "   0  ...                                                  2\n",
              "0  2  ...  My lovely Pat has one of the GREAT voices of h...\n",
              "1  2  ...  Despite the fact that I have only played a sma...\n",
              "2  1  ...  I bought this charger in Jul 2003 and it worke...\n",
              "3  2  ...  Check out Maha Energy's website. Their Powerex...\n",
              "4  2  ...  Reviewed quite a bit of the combo players and ...\n",
              "\n",
              "[5 rows x 3 columns]"
            ]
          },
          "metadata": {},
          "execution_count": 31
        }
      ]
    },
    {
      "cell_type": "code",
      "metadata": {
        "id": "MEW4Cwmb4iZ6"
      },
      "source": [
        "# \n",
        "\n",
        "X_unseen=unused_data[2]\n",
        "y_unseen=unused_data[0]"
      ],
      "execution_count": null,
      "outputs": []
    },
    {
      "cell_type": "code",
      "metadata": {
        "colab": {
          "base_uri": "https://localhost:8080/"
        },
        "id": "w8Oy8OrIEU1I",
        "outputId": "18a52159-1aab-4033-c8de-a6d40b2fd66f"
      },
      "source": [
        "dataset[0].value_counts()"
      ],
      "execution_count": null,
      "outputs": [
        {
          "output_type": "execute_result",
          "data": {
            "text/plain": [
              "2    1800000\n",
              "1    1800000\n",
              "Name: 0, dtype: int64"
            ]
          },
          "metadata": {},
          "execution_count": 33
        }
      ]
    },
    {
      "cell_type": "code",
      "metadata": {
        "colab": {
          "base_uri": "https://localhost:8080/",
          "height": 422
        },
        "id": "s2Fp2nPxEE34",
        "outputId": "e962a7ba-c437-4a0f-e687-601490428be9"
      },
      "source": [
        "import seaborn as sns\n",
        "import matplotlib.pyplot as plt\n",
        "\n",
        "positive_count=dataset[0].value_counts()[2]\n",
        "negative_count=dataset[0].value_counts()[1]\n",
        "\n",
        "categoryNames=['positive', 'negative']\n",
        "sizes=[positive_count, negative_count]\n",
        "plt.figure(figsize=(2,2), dpi=227)\n",
        "plt.pie(sizes, labels=categoryNames, textprops={'fontsize':6}, startangle=90, autopct='%1.1f%%')\n",
        "plt.show"
      ],
      "execution_count": null,
      "outputs": [
        {
          "output_type": "execute_result",
          "data": {
            "text/plain": [
              "<function matplotlib.pyplot.show>"
            ]
          },
          "metadata": {},
          "execution_count": 20
        },
        {
          "output_type": "display_data",
          "data": {
            "image/png": "[encoded data removed]",
            "text/plain": [
              "<Figure size 454x454 with 1 Axes>"
            ]
          },
          "metadata": {}
        }
      ]
    },
    {
      "cell_type": "code",
      "metadata": {
        "id": "Iq9UFEMwEEZn"
      },
      "source": [
        ""
      ],
      "execution_count": null,
      "outputs": []
    },
    {
      "cell_type": "code",
      "metadata": {
        "colab": {
          "base_uri": "https://localhost:8080/"
        },
        "id": "PeIr4cXS4so5",
        "outputId": "fae75d22-19b0-4db6-b8ea-3d32e8d3a755"
      },
      "source": [
        "# \n",
        "\n",
        "X_unseen[:2]"
      ],
      "execution_count": null,
      "outputs": [
        {
          "output_type": "execute_result",
          "data": {
            "text/plain": [
              "0    My lovely Pat has one of the GREAT voices of h...\n",
              "1    Despite the fact that I have only played a sma...\n",
              "Name: 2, dtype: object"
            ]
          },
          "metadata": {},
          "execution_count": 25
        }
      ]
    },
    {
      "cell_type": "code",
      "metadata": {
        "id": "530U5Svc5F4B"
      },
      "source": [
        "# \n",
        "\n",
        "Unseen_sequences = tokenizer.texts_to_sequences(X_unseen) # represent words using word ids in each sentence \n",
        "Unseen_padded = pad_sequences(Unseen_sequences, maxlen=max_length, padding=padding_type, truncating=trunc_type)"
      ],
      "execution_count": null,
      "outputs": []
    },
    {
      "cell_type": "code",
      "metadata": {
        "id": "aPnlTT7z5eJi"
      },
      "source": [
        "# \n",
        "\n",
        "Unseen_padded = np.array(Unseen_padded)\n",
        "y_unseen = np.array([i>1 for i in y_unseen])*1"
      ],
      "execution_count": null,
      "outputs": []
    },
    {
      "cell_type": "code",
      "metadata": {
        "colab": {
          "base_uri": "https://localhost:8080/"
        },
        "id": "2Wc31Snq5tOi",
        "outputId": "21ad3645-3d1f-47ba-9bf6-2485324ec845"
      },
      "source": [
        "# \n",
        "\n",
        "len(y_unseen)"
      ],
      "execution_count": null,
      "outputs": [
        {
          "output_type": "execute_result",
          "data": {
            "text/plain": [
              "400000"
            ]
          },
          "metadata": {},
          "execution_count": 37
        }
      ]
    },
    {
      "cell_type": "code",
      "metadata": {
        "colab": {
          "base_uri": "https://localhost:8080/"
        },
        "id": "n6s21GsP54gQ",
        "outputId": "e7894d25-170b-4116-a192-853c4498306c"
      },
      "source": [
        "model.evaluate(Unseen_padded, y_unseen)"
      ],
      "execution_count": null,
      "outputs": [
        {
          "output_type": "stream",
          "name": "stdout",
          "text": [
            "12500/12500 [==============================] - 117s 9ms/step - loss: 0.1856 - accuracy: 0.9281\n"
          ]
        },
        {
          "output_type": "execute_result",
          "data": {
            "text/plain": [
              "[0.1855805516242981, 0.9280675053596497]"
            ]
          },
          "metadata": {},
          "execution_count": 38
        }
      ]
    },
    {
      "cell_type": "code",
      "metadata": {
        "colab": {
          "base_uri": "https://localhost:8080/"
        },
        "id": "KCsgdy_Tamjh",
        "outputId": "0b6c6720-874d-4c10-9dc5-4d74b21f7b94"
      },
      "source": [
        "unused_data.index[unused_data[0]==1]"
      ],
      "execution_count": null,
      "outputs": [
        {
          "output_type": "execute_result",
          "data": {
            "text/plain": [
              "Int64Index([     2,      5,      6,      7,      9,     11,     12,     14,\n",
              "                15,     20,\n",
              "            ...\n",
              "            399984, 399988, 399989, 399991, 399992, 399993, 399995, 399996,\n",
              "            399997, 399999],\n",
              "           dtype='int64', length=200000)"
            ]
          },
          "metadata": {},
          "execution_count": 43
        }
      ]
    },
    {
      "cell_type": "code",
      "metadata": {
        "colab": {
          "base_uri": "https://localhost:8080/"
        },
        "id": "bDzfcWkjaQag",
        "outputId": "87c2ddc3-c579-48fd-e4c9-bc26baa25d9f"
      },
      "source": [
        "# test on a random review from previously unseen dataset\n",
        "\n",
        "sentence = [unused_data[2][399992]]\n",
        "print(sentence)\n",
        "print('-------------------------------------------')\n",
        "print('-------------------------------------------')\n",
        "sequences = tokenizer.texts_to_sequences(sentence)\n",
        "padded = pad_sequences(sequences, maxlen=max_length, padding=padding_type, truncating=trunc_type)\n",
        "\n",
        "result=model.predict(padded)\n",
        "print(result)"
      ],
      "execution_count": null,
      "outputs": [
        {
          "output_type": "stream",
          "name": "stdout",
          "text": [
            "['This is not what I expected. I thought this was an all out rock band and to my dismay I found noise. I can actually sit down and listen to this though. Another review mentioned Merzbow...I think they hit the nail on the head. It has a hint of Meat Beat Manifesto also. I think some of Mike Pattons work also is along this same route.']\n",
            "-------------------------------------------\n",
            "-------------------------------------------\n",
            "[[0.2617413]]\n"
          ]
        }
      ]
    },
    {
      "cell_type": "code",
      "metadata": {
        "id": "MCep83B2EV1o"
      },
      "source": [
        "model.save('saved_model.h5') "
      ],
      "execution_count": null,
      "outputs": []
    },
    {
      "cell_type": "code",
      "metadata": {
        "id": "7IbyuOTJEh_X"
      },
      "source": [
        "# \n",
        "\n",
        "# To execute using the loaded model\n",
        "\n",
        "\n",
        "\n",
        "loaded_model=tf.keras.models.load_model('saved_model.h5')"
      ],
      "execution_count": null,
      "outputs": []
    },
    {
      "cell_type": "code",
      "metadata": {
        "colab": {
          "base_uri": "https://localhost:8080/"
        },
        "id": "FX-gy8T9SfdF",
        "outputId": "6ec812a4-37ea-4684-b28c-98ba5762545e"
      },
      "source": [
        "# \n",
        "\n",
        "loaded_model.evaluate(testing_padded, testing_labels)"
      ],
      "execution_count": null,
      "outputs": [
        {
          "output_type": "stream",
          "name": "stdout",
          "text": [
            "28125/28125 [==============================] - 259s 9ms/step - loss: 0.1827 - accuracy: 0.9297\n"
          ]
        },
        {
          "output_type": "execute_result",
          "data": {
            "text/plain": [
              "[0.1827353835105896, 0.9296833276748657]"
            ]
          },
          "metadata": {},
          "execution_count": 23
        }
      ]
    },
    {
      "cell_type": "code",
      "metadata": {
        "colab": {
          "base_uri": "https://localhost:8080/"
        },
        "id": "L3iuMPgOl5ES",
        "outputId": "795007ec-ed4f-4a45-ee87-c385d635d700"
      },
      "source": [
        "from sklearn.metrics import confusion_matrix\n",
        "\n",
        "\n",
        "y_pred=(loaded_model.predict(testing_padded) >= 0.5)*1\n",
        "\n",
        "confusion_matrix(testing_labels, y_pred)\n"
      ],
      "execution_count": null,
      "outputs": [
        {
          "output_type": "execute_result",
          "data": {
            "text/plain": [
              "array([[423385,  28758],\n",
              "       [ 34527, 413330]])"
            ]
          },
          "metadata": {},
          "execution_count": 24
        }
      ]
    },
    {
      "cell_type": "code",
      "metadata": {
        "id": "lSUmJRLp6HRR"
      },
      "source": [
        "cm=np.array([[423385,  28758],\n",
        "       [ 34527, 413330]])\n",
        "cm=cm*100/np.sum(cm)"
      ],
      "execution_count": null,
      "outputs": []
    },
    {
      "cell_type": "code",
      "metadata": {
        "colab": {
          "base_uri": "https://localhost:8080/",
          "height": 282
        },
        "id": "mpT3rnLi6aK1",
        "outputId": "30c88e4b-d4df-4e15-ed0a-c93f2cc33f57"
      },
      "source": [
        "import seaborn as sns\n",
        "sns.heatmap(cm, annot=True)"
      ],
      "execution_count": null,
      "outputs": [
        {
          "output_type": "execute_result",
          "data": {
            "text/plain": [
              "<matplotlib.axes._subplots.AxesSubplot at 0x7fbe8edea090>"
            ]
          },
          "metadata": {},
          "execution_count": 8
        },
        {
          "output_type": "display_data",
          "data": {
            "image/png": "[encoded data removed]",
            "text/plain": [
              "<Figure size 432x288 with 2 Axes>"
            ]
          },
          "metadata": {
            "needs_background": "light"
          }
        }
      ]
    },
    {
      "cell_type": "code",
      "metadata": {
        "colab": {
          "base_uri": "https://localhost:8080/"
        },
        "id": "gZZTH2YTEp4P",
        "outputId": "ebe8ce26-e983-432c-ad30-175ee2c3a403"
      },
      "source": [
        "# \n",
        "\n",
        "loaded_model.evaluate(Unseen_padded, y_unseen)"
      ],
      "execution_count": null,
      "outputs": [
        {
          "output_type": "stream",
          "name": "stdout",
          "text": [
            "12500/12500 [==============================] - 26s 2ms/step - loss: 0.2605 - accuracy: 0.8912\n"
          ]
        },
        {
          "output_type": "execute_result",
          "data": {
            "text/plain": [
              "[0.2605000138282776, 0.8911525011062622]"
            ]
          },
          "metadata": {},
          "execution_count": 31
        }
      ]
    },
    {
      "cell_type": "code",
      "metadata": {
        "colab": {
          "base_uri": "https://localhost:8080/"
        },
        "id": "RsE3OSW_THS1",
        "outputId": "b3346011-fdac-4380-dce5-77e66e94ff4e"
      },
      "source": [
        "testing_padded.shape"
      ],
      "execution_count": null,
      "outputs": [
        {
          "output_type": "execute_result",
          "data": {
            "text/plain": [
              "(900000, 100)"
            ]
          },
          "metadata": {},
          "execution_count": 32
        }
      ]
    },
    {
      "cell_type": "code",
      "metadata": {
        "colab": {
          "base_uri": "https://localhost:8080/"
        },
        "id": "ZDGPU-BTTLCt",
        "outputId": "e9907ef9-09fd-4486-9f00-b62fc0ad4d95"
      },
      "source": [
        "Unseen_padded.shape"
      ],
      "execution_count": null,
      "outputs": [
        {
          "output_type": "execute_result",
          "data": {
            "text/plain": [
              "(400000, 100)"
            ]
          },
          "metadata": {},
          "execution_count": 33
        }
      ]
    },
    {
      "cell_type": "code",
      "metadata": {
        "colab": {
          "base_uri": "https://localhost:8080/"
        },
        "id": "IFoUZdxea2r5",
        "outputId": "9650d7d1-8939-4cc4-9642-71492cc61e26"
      },
      "source": [
        "len(unused_data)"
      ],
      "execution_count": null,
      "outputs": [
        {
          "output_type": "execute_result",
          "data": {
            "text/plain": [
              "400000"
            ]
          },
          "metadata": {},
          "execution_count": 49
        }
      ]
    },
    {
      "cell_type": "code",
      "metadata": {
        "colab": {
          "base_uri": "https://localhost:8080/"
        },
        "id": "aBKobY2da5jw",
        "outputId": "d3cdb926-d7e5-4c32-9413-4ab3d429b549"
      },
      "source": [
        "len(dataset)"
      ],
      "execution_count": null,
      "outputs": [
        {
          "output_type": "execute_result",
          "data": {
            "text/plain": [
              "3600000"
            ]
          },
          "metadata": {},
          "execution_count": 50
        }
      ]
    },
    {
      "cell_type": "code",
      "metadata": {
        "colab": {
          "base_uri": "https://localhost:8080/"
        },
        "id": "UfDVDATba7Mw",
        "outputId": "15c95d5a-4175-40df-e327-4dd8074781b2"
      },
      "source": [
        "training_padded.shape"
      ],
      "execution_count": null,
      "outputs": [
        {
          "output_type": "execute_result",
          "data": {
            "text/plain": [
              "(2700000, 100)"
            ]
          },
          "metadata": {},
          "execution_count": 51
        }
      ]
    },
    {
      "cell_type": "code",
      "metadata": {
        "colab": {
          "base_uri": "https://localhost:8080/"
        },
        "id": "dNrk-yE2bFGw",
        "outputId": "23b56ef9-114e-43fe-ac6f-d370c248b7ab"
      },
      "source": [
        "training_labels.shape"
      ],
      "execution_count": null,
      "outputs": [
        {
          "output_type": "execute_result",
          "data": {
            "text/plain": [
              "(2700000,)"
            ]
          },
          "metadata": {},
          "execution_count": 70
        }
      ]
    },
    {
      "cell_type": "code",
      "metadata": {
        "colab": {
          "base_uri": "https://localhost:8080/"
        },
        "id": "rXfR1FMsbJbP",
        "outputId": "27c6c6b8-3135-4c36-8666-91c6282dd4fe"
      },
      "source": [
        "testing_padded.shape"
      ],
      "execution_count": null,
      "outputs": [
        {
          "output_type": "execute_result",
          "data": {
            "text/plain": [
              "(900000, 100)"
            ]
          },
          "metadata": {},
          "execution_count": 71
        }
      ]
    },
    {
      "cell_type": "code",
      "metadata": {
        "colab": {
          "base_uri": "https://localhost:8080/"
        },
        "id": "oyYoRYeNbMSP",
        "outputId": "d2bb5b37-7568-4b77-f4e4-f09db0eb6941"
      },
      "source": [
        "testing_labels.shape"
      ],
      "execution_count": null,
      "outputs": [
        {
          "output_type": "execute_result",
          "data": {
            "text/plain": [
              "(900000,)"
            ]
          },
          "metadata": {},
          "execution_count": 72
        }
      ]
    },
    {
      "cell_type": "code",
      "metadata": {
        "colab": {
          "base_uri": "https://localhost:8080/"
        },
        "id": "5RtgoSbS66RF",
        "outputId": "07e39e9d-ad2d-4add-97ac-952ef5ec7e01"
      },
      "source": [
        "type(tokenizer)"
      ],
      "execution_count": null,
      "outputs": [
        {
          "output_type": "execute_result",
          "data": {
            "text/plain": [
              "keras_preprocessing.text.Tokenizer"
            ]
          },
          "metadata": {},
          "execution_count": 74
        }
      ]
    },
    {
      "cell_type": "markdown",
      "metadata": {
        "id": "NedKYL1xuIoq"
      },
      "source": [
        "## Examples to try"
      ]
    },
    {
      "cell_type": "code",
      "metadata": {
        "id": "92FgitXUBX6W"
      },
      "source": [
        "import nltk\n",
        "nltk.download('punkt')"
      ],
      "execution_count": null,
      "outputs": []
    },
    {
      "cell_type": "code",
      "metadata": {
        "id": "dxVsgut47515",
        "colab": {
          "base_uri": "https://localhost:8080/"
        },
        "outputId": "d56e1563-92c3-4013-f028-6badd43dabcf"
      },
      "source": [
        "from nltk.tokenize import word_tokenize\n",
        "\n",
        "txt='We are processing text'\n",
        "\n",
        "print(word_tokenize(txt))"
      ],
      "execution_count": null,
      "outputs": [
        {
          "output_type": "stream",
          "name": "stdout",
          "text": [
            "['We', 'are', 'processing', 'text']\n"
          ]
        }
      ]
    },
    {
      "cell_type": "code",
      "metadata": {
        "id": "ivX-4QqTA93b"
      },
      "source": [
        "exp_training=[\"Liked it. The product is worth the price.\", \n",
        "              \"Price is high. Expected it to be better\", \n",
        "              \"Better than expected\",\n",
        "              \"I liked it\"]\n",
        "\n",
        "exp_tokenizer = Tokenizer(num_words=5, oov_token=\"<OOV>\") \n",
        "exp_tokenizer.fit_on_texts(exp_training)"
      ],
      "execution_count": null,
      "outputs": []
    },
    {
      "cell_type": "code",
      "metadata": {
        "colab": {
          "base_uri": "https://localhost:8080/"
        },
        "id": "zx4sTQQjF1lL",
        "outputId": "5a7f4198-5cd3-46d7-fbe2-bf26f8001974"
      },
      "source": [
        "exp_tokenizer.word_index"
      ],
      "execution_count": null,
      "outputs": [
        {
          "output_type": "execute_result",
          "data": {
            "text/plain": [
              "{'<OOV>': 1,\n",
              " 'be': 13,\n",
              " 'better': 8,\n",
              " 'expected': 7,\n",
              " 'high': 11,\n",
              " 'i': 15,\n",
              " 'is': 5,\n",
              " 'it': 2,\n",
              " 'liked': 3,\n",
              " 'price': 6,\n",
              " 'product': 9,\n",
              " 'than': 14,\n",
              " 'the': 4,\n",
              " 'to': 12,\n",
              " 'worth': 10}"
            ]
          },
          "metadata": {},
          "execution_count": 4
        }
      ]
    },
    {
      "cell_type": "code",
      "metadata": {
        "colab": {
          "base_uri": "https://localhost:8080/"
        },
        "id": "P3pJ6N9oF8vl",
        "outputId": "f166f046-9b51-4978-ab08-f0e4df674eb2"
      },
      "source": [
        "print(exp_tokenizer.texts_to_sequences(exp_training))"
      ],
      "execution_count": null,
      "outputs": [
        {
          "output_type": "stream",
          "name": "stdout",
          "text": [
            "[[3, 2, 4, 1, 1, 1, 4, 1], [1, 1, 1, 1, 2, 1, 1, 1], [1, 1, 1], [1, 3, 2]]\n"
          ]
        }
      ]
    },
    {
      "cell_type": "code",
      "metadata": {
        "colab": {
          "base_uri": "https://localhost:8080/"
        },
        "id": "ZY6mx-slGri0",
        "outputId": "b9dd47bd-b42e-43d1-f3f5-678ec0223d64"
      },
      "source": [
        "train_sequences=exp_tokenizer.texts_to_sequences(exp_training)\n",
        "\n",
        "for seq in train_sequences:\n",
        "  print(seq)"
      ],
      "execution_count": null,
      "outputs": [
        {
          "output_type": "stream",
          "name": "stdout",
          "text": [
            "[3, 2, 4, 1, 1, 1, 4, 1]\n",
            "[1, 1, 1, 1, 2, 1, 1, 1]\n",
            "[1, 1, 1]\n",
            "[1, 3, 2]\n"
          ]
        }
      ]
    },
    {
      "cell_type": "code",
      "metadata": {
        "id": "fi6sLe3i69BB"
      },
      "source": [
        ""
      ],
      "execution_count": null,
      "outputs": []
    }
  ]
}